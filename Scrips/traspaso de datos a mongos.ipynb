{
 "cells": [
  {
   "cell_type": "code",
   "execution_count": 2,
   "metadata": {},
   "outputs": [
    {
     "name": "stdout",
     "output_type": "stream",
     "text": [
      "Note: you may need to restart the kernel to use updated packages.\n"
     ]
    },
    {
     "name": "stderr",
     "output_type": "stream",
     "text": [
      "ERROR: Could not find a version that satisfies the requirement sqlite3 (from versions: none)\n",
      "\n",
      "[notice] A new release of pip is available: 24.2 -> 25.0\n",
      "[notice] To update, run: python.exe -m pip install --upgrade pip\n",
      "ERROR: No matching distribution found for sqlite3\n"
     ]
    }
   ],
   "source": [
    "pip install sqlite3"
   ]
  },
  {
   "cell_type": "code",
   "execution_count": 3,
   "metadata": {},
   "outputs": [
    {
     "name": "stdout",
     "output_type": "stream",
     "text": [
      "Requirement already satisfied: pandas in c:\\users\\jordy.navarro\\appdata\\local\\programs\\python\\python313\\lib\\site-packages (2.2.3)\n",
      "Requirement already satisfied: numpy>=1.26.0 in c:\\users\\jordy.navarro\\appdata\\local\\programs\\python\\python313\\lib\\site-packages (from pandas) (2.1.2)\n",
      "Requirement already satisfied: python-dateutil>=2.8.2 in c:\\users\\jordy.navarro\\appdata\\local\\programs\\python\\python313\\lib\\site-packages (from pandas) (2.9.0.post0)\n",
      "Requirement already satisfied: pytz>=2020.1 in c:\\users\\jordy.navarro\\appdata\\local\\programs\\python\\python313\\lib\\site-packages (from pandas) (2024.2)\n",
      "Requirement already satisfied: tzdata>=2022.7 in c:\\users\\jordy.navarro\\appdata\\local\\programs\\python\\python313\\lib\\site-packages (from pandas) (2024.2)\n",
      "Requirement already satisfied: six>=1.5 in c:\\users\\jordy.navarro\\appdata\\local\\programs\\python\\python313\\lib\\site-packages (from python-dateutil>=2.8.2->pandas) (1.16.0)\n",
      "Note: you may need to restart the kernel to use updated packages.\n"
     ]
    },
    {
     "name": "stderr",
     "output_type": "stream",
     "text": [
      "\n",
      "[notice] A new release of pip is available: 24.2 -> 25.0\n",
      "[notice] To update, run: python.exe -m pip install --upgrade pip\n"
     ]
    }
   ],
   "source": [
    "pip install pandas"
   ]
  },
  {
   "cell_type": "code",
   "execution_count": 13,
   "metadata": {},
   "outputs": [
    {
     "name": "stdout",
     "output_type": "stream",
     "text": [
      "✅ Base de datos y tabla en SQLite creadas correctamente.\n"
     ]
    }
   ],
   "source": [
    "import sqlite3\n",
    "import pandas as pd\n",
    "\n",
    "#  Cargar el archivo CSV\n",
    "file_path = \"C:\\\\Datos\\\\accidentes_de_tráfico_completo.csv\"  # Asegúrate de que está en la misma carpeta\n",
    "df = pd.read_csv(file_path)\n",
    "\n",
    "#  Conectar a la base de datos SQLite (se crea automáticamente si no existe)\n",
    "sqlite_db_path = \"accidentes.sqlite\"\n",
    "conn = sqlite3.connect(sqlite_db_path)\n",
    "cursor = conn.cursor()\n",
    "\n",
    "#  Crear la tabla con todas las columnas necesarias\n",
    "cursor.execute(\"\"\"\n",
    "DROP TABLE IF EXISTS accidentes;\n",
    "\"\"\")\n",
    "\n",
    "cursor.execute(\"\"\"\n",
    "CREATE TABLE accidentes (\n",
    "    id INTEGER PRIMARY KEY AUTOINCREMENT,\n",
    "    pais TEXT,\n",
    "    anio INTEGER,\n",
    "    mes TEXT,\n",
    "    dia_semana TEXT,\n",
    "    hora_dia TEXT,\n",
    "    zona TEXT,\n",
    "    tipo_carretera TEXT,\n",
    "    condiciones_climaticas TEXT,\n",
    "    visibilidad REAL,\n",
    "    num_vehiculos INTEGER,\n",
    "    speed_limit INTEGER,\n",
    "    driver_age_group TEXT,\n",
    "    driver_gender TEXT,\n",
    "    driver_alcohol_level REAL,\n",
    "    driver_fatigue TEXT,\n",
    "    vehicle_condition TEXT,\n",
    "    pedestrians_involved INTEGER,\n",
    "    cyclists_involved INTEGER,\n",
    "    accident_severity TEXT,\n",
    "    num_heridos INTEGER,\n",
    "    num_fallecidos INTEGER,\n",
    "    tiempo_respuesta REAL,\n",
    "    volumen_trafico REAL,\n",
    "    condicion_carretera TEXT,\n",
    "    causa_accidente TEXT,\n",
    "    reclamaciones_seguro INTEGER,\n",
    "    costo_medico REAL,\n",
    "    perdida_economica REAL,\n",
    "    region TEXT,\n",
    "    densidad_poblacion REAL\n",
    ")\n",
    "\"\"\")\n",
    "\n",
    "#  Confirmar cambios en la base de datos\n",
    "conn.commit()\n",
    "\n",
    "print(\"✅ Base de datos y tabla en SQLite creadas correctamente.\")\n"
   ]
  },
  {
   "cell_type": "code",
   "execution_count": 4,
   "metadata": {},
   "outputs": [
    {
     "name": "stdout",
     "output_type": "stream",
     "text": [
      "Requirement already satisfied: pymongo in c:\\users\\jordy.navarro\\appdata\\local\\programs\\python\\python313\\lib\\site-packages (4.10.1)Note: you may need to restart the kernel to use updated packages.\n"
     ]
    },
    {
     "name": "stderr",
     "output_type": "stream",
     "text": [
      "\n",
      "[notice] A new release of pip is available: 24.2 -> 25.0\n",
      "[notice] To update, run: python.exe -m pip install --upgrade pip\n"
     ]
    },
    {
     "name": "stdout",
     "output_type": "stream",
     "text": [
      "\n",
      "Requirement already satisfied: dnspython<3.0.0,>=1.16.0 in c:\\users\\jordy.navarro\\appdata\\local\\programs\\python\\python313\\lib\\site-packages (from pymongo) (2.7.0)\n"
     ]
    }
   ],
   "source": [
    "pip install pymongo\n"
   ]
  },
  {
   "cell_type": "code",
   "execution_count": 14,
   "metadata": {},
   "outputs": [
    {
     "name": "stdout",
     "output_type": "stream",
     "text": [
      "     País   Año        Mes Día de la Semana Hora del Día    Zona  \\\n",
      "0     USA  2002    Octubre           Martes        Noche   Rural   \n",
      "1      UK  2014  Diciembre           Sábado        Noche  Urbano   \n",
      "2     USA  2012      Julio          Domingo        Tarde  Urbano   \n",
      "3      UK  2017       Mayo           Sábado        Noche  Urbano   \n",
      "4  Canada  2002      Julio           Martes        Tarde   Rural   \n",
      "\n",
      "     Tipo de Carretera Condiciones Climáticas  Nivel de Visibilidad  \\\n",
      "0                Calle                Ventoso            220.414651   \n",
      "1                Calle                Ventoso            168.311358   \n",
      "2            Autopista                 Nevado            341.286506   \n",
      "3  Carretera Principal              Despejado            489.384536   \n",
      "4            Autopista               Lluvioso            348.344850   \n",
      "\n",
      "   Número de Vehículos Involucrados  ...  Número de Fallecidos  \\\n",
      "0                                 1  ...                     2   \n",
      "1                                 3  ...                     1   \n",
      "2                                 4  ...                     4   \n",
      "3                                 2  ...                     3   \n",
      "4                                 1  ...                     4   \n",
      "\n",
      "  Tiempo de Respuesta de Emergencia Volumen de Tráfico  \\\n",
      "0                         58.625720        7412.752760   \n",
      "1                         58.041380        4458.628820   \n",
      "2                         42.374452        9856.915064   \n",
      "3                         48.554014        4958.646267   \n",
      "4                         18.318250        3843.191463   \n",
      "\n",
      "   Condición de la Carretera     Causa del Accidente Reclamaciones de Seguro  \\\n",
      "0                     Mojado  Condiciones Climáticas                       4   \n",
      "1          Cubierto de Nieve          Falla Mecánica                       3   \n",
      "2                     Mojado     Exceso de Velocidad                       4   \n",
      "3                  Congelado    Conducción Distraída                       3   \n",
      "4                  Congelado    Conducción Distraída                       8   \n",
      "\n",
      "   Costo Médico  Pérdida Económica             Región  Densidad de Población  \n",
      "0  40499.856982       22072.878502             Europa            3866.273014  \n",
      "1   6486.600073        9534.399441  América del Norte            2333.916224  \n",
      "2  29164.412982       58009.145124    América del Sur            4408.889129  \n",
      "3  25797.212566       20907.151302          Australia            2810.822423  \n",
      "4  15605.293921       13584.060759    América del Sur            3883.645634  \n",
      "\n",
      "[5 rows x 30 columns]\n",
      " El archivo CSV tiene 132000 registros.\n"
     ]
    }
   ],
   "source": [
    "import pandas as pd\n",
    "\n",
    "#  Ruta del archivo CSV\n",
    "file_path = \"C:\\\\Datos\\\\accidentes_de_tráfico_completo.csv\"  # Ajusta la ruta si es necesario\n",
    "\n",
    "#  Cargar el archivo CSV\n",
    "df = pd.read_csv(file_path)\n",
    "\n",
    "#  Mostrar las primeras filas\n",
    "print(df.head())\n",
    "\n",
    "#  Verificar cuántos registros tiene\n",
    "print(f\" El archivo CSV tiene {df.shape[0]} registros.\")"
   ]
  },
  {
   "cell_type": "code",
   "execution_count": 15,
   "metadata": {},
   "outputs": [
    {
     "name": "stdout",
     "output_type": "stream",
     "text": [
      "Index(['País', 'Año', 'Mes', 'Día de la Semana', 'Hora del Día', 'Zona',\n",
      "       'Tipo de Carretera', 'Condiciones Climáticas', 'Nivel de Visibilidad',\n",
      "       'Número de Vehículos Involucrados', 'Speed Limit', 'Driver Age Group',\n",
      "       'Driver Gender', 'Driver Alcohol Level', 'Driver Fatigue',\n",
      "       'Vehicle Condition', 'Pedestrians Involved', 'Cyclists Involved',\n",
      "       'Accident Severity', 'Number of Injuries', 'Número de Fallecidos',\n",
      "       'Tiempo de Respuesta de Emergencia', 'Volumen de Tráfico',\n",
      "       'Condición de la Carretera', 'Causa del Accidente',\n",
      "       'Reclamaciones de Seguro', 'Costo Médico', 'Pérdida Económica',\n",
      "       'Región', 'Densidad de Población'],\n",
      "      dtype='object')\n"
     ]
    }
   ],
   "source": [
    "# Mostrar nombres de columnas en el CSV\n",
    "print(df.columns)"
   ]
  },
  {
   "cell_type": "code",
   "execution_count": 16,
   "metadata": {},
   "outputs": [
    {
     "name": "stdout",
     "output_type": "stream",
     "text": [
      " Base de datos SQLite y tabla creadas correctamente.\n"
     ]
    }
   ],
   "source": [
    "import sqlite3\n",
    "\n",
    "#  Conectar a SQLite\n",
    "sqlite_db_path = \"accidentes.sqlite\"\n",
    "conn = sqlite3.connect(sqlite_db_path)\n",
    "cursor = conn.cursor()\n",
    "\n",
    "#  Crear la tabla en SQLite\n",
    "cursor.execute(\"\"\"\n",
    "DROP TABLE IF EXISTS accidentes;\n",
    "\"\"\")\n",
    "\n",
    "cursor.execute(\"\"\"\n",
    "CREATE TABLE accidentes (\n",
    "    id INTEGER PRIMARY KEY AUTOINCREMENT,\n",
    "    pais TEXT,\n",
    "    anio INTEGER,\n",
    "    mes TEXT,\n",
    "    dia_semana TEXT,\n",
    "    hora_dia TEXT,\n",
    "    zona TEXT,\n",
    "    tipo_carretera TEXT,\n",
    "    condiciones_climaticas TEXT,\n",
    "    visibilidad REAL,\n",
    "    num_vehiculos INTEGER,\n",
    "    speed_limit INTEGER,\n",
    "    driver_age_group TEXT,\n",
    "    driver_gender TEXT,\n",
    "    driver_alcohol_level REAL,\n",
    "    driver_fatigue TEXT,\n",
    "    vehicle_condition TEXT,\n",
    "    pedestrians_involved INTEGER,\n",
    "    cyclists_involved INTEGER,\n",
    "    accident_severity TEXT,\n",
    "    num_heridos INTEGER,\n",
    "    num_fallecidos INTEGER,\n",
    "    tiempo_respuesta REAL,\n",
    "    volumen_trafico REAL,\n",
    "    condicion_carretera TEXT,\n",
    "    causa_accidente TEXT,\n",
    "    reclamaciones_seguro INTEGER,\n",
    "    costo_medico REAL,\n",
    "    perdida_economica REAL,\n",
    "    region TEXT,\n",
    "    densidad_poblacion REAL\n",
    ")\n",
    "\"\"\")\n",
    "\n",
    "conn.commit()\n",
    "print(\" Base de datos SQLite y tabla creadas correctamente.\")"
   ]
  },
  {
   "cell_type": "code",
   "execution_count": 17,
   "metadata": {},
   "outputs": [
    {
     "name": "stdout",
     "output_type": "stream",
     "text": [
      " Datos insertados en SQLite correctamente.\n"
     ]
    }
   ],
   "source": [
    "#  Renombrar las columnas para que coincidan con la base de datos\n",
    "df_sqlite = df.rename(columns={\n",
    "    \"País\": \"pais\",\n",
    "    \"Año\": \"anio\",\n",
    "    \"Mes\": \"mes\",\n",
    "    \"Día de la Semana\": \"dia_semana\",\n",
    "    \"Hora del Día\": \"hora_dia\",\n",
    "    \"Zona\": \"zona\",\n",
    "    \"Tipo de Carretera\": \"tipo_carretera\",\n",
    "    \"Condiciones Climáticas\": \"condiciones_climaticas\",\n",
    "    \"Nivel de Visibilidad\": \"visibilidad\",\n",
    "    \"Número de Vehículos Involucrados\": \"num_vehiculos\",\n",
    "    \"Speed Limit\": \"speed_limit\",\n",
    "    \"Driver Age Group\": \"driver_age_group\",\n",
    "    \"Driver Gender\": \"driver_gender\",\n",
    "    \"Driver Alcohol Level\": \"driver_alcohol_level\",\n",
    "    \"Driver Fatigue\": \"driver_fatigue\",\n",
    "    \"Vehicle Condition\": \"vehicle_condition\",\n",
    "    \"Pedestrians Involved\": \"pedestrians_involved\",\n",
    "    \"Cyclists Involved\": \"cyclists_involved\",\n",
    "    \"Accident Severity\": \"accident_severity\",\n",
    "    \"Number of Injuries\": \"num_heridos\",\n",
    "    \"Número de Fallecidos\": \"num_fallecidos\",\n",
    "    \"Tiempo de Respuesta de Emergencia\": \"tiempo_respuesta\",\n",
    "    \"Volumen de Tráfico\": \"volumen_trafico\",\n",
    "    \"Condición de la Carretera\": \"condicion_carretera\",\n",
    "    \"Causa del Accidente\": \"causa_accidente\",\n",
    "    \"Reclamaciones de Seguro\": \"reclamaciones_seguro\",\n",
    "    \"Costo Médico\": \"costo_medico\",\n",
    "    \"Pérdida Económica\": \"perdida_economica\",\n",
    "    \"Región\": \"region\",\n",
    "    \"Densidad de Población\": \"densidad_poblacion\"\n",
    "})\n",
    "\n",
    "#  Insertar los datos en SQLite\n",
    "df_sqlite.to_sql(\"accidentes\", conn, if_exists=\"append\", index=False)\n",
    "\n",
    "#  Confirmar cambios y cerrar conexión\n",
    "conn.commit()\n",
    "conn.close()\n",
    "\n",
    "print(\" Datos insertados en SQLite correctamente.\")"
   ]
  },
  {
   "cell_type": "code",
   "execution_count": 18,
   "metadata": {},
   "outputs": [
    {
     "name": "stdout",
     "output_type": "stream",
     "text": [
      " Se han insertado 132000 registros en SQLite.\n"
     ]
    }
   ],
   "source": [
    "#  Conectar a SQLite y verificar los datos\n",
    "conn = sqlite3.connect(sqlite_db_path)\n",
    "cursor = conn.cursor()\n",
    "\n",
    "#  Contar el número de registros en la tabla\n",
    "cursor.execute(\"SELECT COUNT(*) FROM accidentes;\")\n",
    "num_registros = cursor.fetchone()[0]\n",
    "\n",
    "conn.close()\n",
    "\n",
    "print(f\" Se han insertado {num_registros} registros en SQLite.\")"
   ]
  },
  {
   "cell_type": "code",
   "execution_count": 19,
   "metadata": {},
   "outputs": [
    {
     "name": "stdout",
     "output_type": "stream",
     "text": [
      " Se han insertado 132000 registros en SQLite.\n"
     ]
    }
   ],
   "source": [
    "#  Conectar a SQLite y verificar los datos\n",
    "conn = sqlite3.connect(sqlite_db_path)\n",
    "cursor = conn.cursor()\n",
    "\n",
    "#  Contar el número de registros en la tabla\n",
    "cursor.execute(\"SELECT COUNT(*) FROM accidentes;\")\n",
    "num_registros = cursor.fetchone()[0]\n",
    "\n",
    "conn.close()\n",
    "\n",
    "print(f\" Se han insertado {num_registros} registros en SQLite.\")"
   ]
  },
  {
   "cell_type": "code",
   "execution_count": 20,
   "metadata": {},
   "outputs": [
    {
     "name": "stdout",
     "output_type": "stream",
     "text": [
      " Se insertaron 396000 registros en MongoDB.\n"
     ]
    }
   ],
   "source": [
    "from pymongo import MongoClient\n",
    "import sqlite3\n",
    "import pandas as pd\n",
    "\n",
    "#  Conectar a la base de datos SQLite\n",
    "sqlite_db_path = \"accidentes.sqlite\"\n",
    "conn = sqlite3.connect(sqlite_db_path)\n",
    "\n",
    "#  Extraer los datos de SQLite\n",
    "df_sqlite = pd.read_sql_query(\"SELECT * FROM accidentes\", conn)\n",
    "conn.close()\n",
    "\n",
    "#  Convertir el DataFrame en formato JSON\n",
    "json_data = df_sqlite.to_dict(orient=\"records\")\n",
    "\n",
    "#  Conectar a MongoDB\n",
    "client = MongoClient(\"mongodb://localhost:27017/\")  # Ajusta si usas otro servidor\n",
    "db = client[\"AccidentesDB_NoSQL\"]  # Base de datos en MongoDB\n",
    "collection = db[\"Accidentes\"]  # Colección en MongoDB\n",
    "\n",
    "#  Insertar los datos en MongoDB\n",
    "collection.insert_many(json_data)\n",
    "\n",
    "#  Confirmar la cantidad de documentos insertados\n",
    "num_docs = collection.count_documents({})\n",
    "print(f\" Se insertaron {num_docs} registros en MongoDB.\")"
   ]
  },
  {
   "cell_type": "code",
   "execution_count": 21,
   "metadata": {},
   "outputs": [
    {
     "name": "stdout",
     "output_type": "stream",
     "text": [
      "Note: you may need to restart the kernel to use updated packages.Requirement already satisfied: redis in c:\\users\\jordy.navarro\\appdata\\local\\programs\\python\\python313\\lib\\site-packages (5.2.1)\n",
      "\n"
     ]
    },
    {
     "name": "stderr",
     "output_type": "stream",
     "text": [
      "\n",
      "[notice] A new release of pip is available: 24.2 -> 25.0\n",
      "[notice] To update, run: python.exe -m pip install --upgrade pip\n"
     ]
    }
   ],
   "source": [
    "pip install redis\n"
   ]
  },
  {
   "cell_type": "code",
   "execution_count": 22,
   "metadata": {},
   "outputs": [
    {
     "name": "stdout",
     "output_type": "stream",
     "text": [
      "5.2.1\n"
     ]
    }
   ],
   "source": [
    "import redis\n",
    "print(redis.__version__)  # Esto imprimirá la versión instalada de Redis\n"
   ]
  },
  {
   "cell_type": "code",
   "execution_count": 23,
   "metadata": {},
   "outputs": [
    {
     "name": "stdout",
     "output_type": "stream",
     "text": [
      "True\n"
     ]
    }
   ],
   "source": [
    "client = redis.StrictRedis(host=\"localhost\", port=6379, db=0)\n",
    "print(client.ping())"
   ]
  },
  {
   "cell_type": "code",
   "execution_count": 24,
   "metadata": {},
   "outputs": [
    {
     "name": "stdout",
     "output_type": "stream",
     "text": [
      " Datos clave insertados en Redis correctamente.\n"
     ]
    }
   ],
   "source": [
    "import redis\n",
    "import sqlite3\n",
    "import pandas as pd\n",
    "\n",
    "#  Conectar a SQLite\n",
    "sqlite_db_path = \"accidentes.sqlite\"\n",
    "conn = sqlite3.connect(sqlite_db_path)\n",
    "\n",
    "# 📌 Extraer solo las columnas clave (ID y Severidad del accidente)\n",
    "df_sqlite = pd.read_sql_query(\"SELECT id, accident_severity FROM accidentes\", conn)\n",
    "conn.close()\n",
    "\n",
    "#  Conectar a Redis\n",
    "redis_client = redis.StrictRedis(host=\"localhost\", port=6379, db=0, decode_responses=True)\n",
    "\n",
    "#  Guardar cada accidente en Redis con su severidad\n",
    "for index, row in df_sqlite.iterrows():\n",
    "    redis_client.set(f\"accidente:{row['id']}\", row[\"accident_severity\"])\n",
    "\n",
    "print(\" Datos clave insertados en Redis correctamente.\")"
   ]
  },
  {
   "cell_type": "code",
   "execution_count": 25,
   "metadata": {},
   "outputs": [
    {
     "name": "stdout",
     "output_type": "stream",
     "text": [
      "Datos convertidos y guardados en accidentes.json\n"
     ]
    }
   ],
   "source": [
    "\n",
    "#CVS a JSON desde SQLite\n",
    "import pandas as pd\n",
    "import json\n",
    "\n",
    "# Cargar los datos desde SQLite\n",
    "sqlite_db_path = \"accidentes.sqlite\"\n",
    "conn = sqlite3.connect(sqlite_db_path)\n",
    "df = pd.read_sql_query(\"SELECT * FROM accidentes\", conn)\n",
    "conn.close()\n",
    "\n",
    "#Convertir el DataFrame a JSON\n",
    "json_data = df.to_json(orient=\"records\", indent=4)\n",
    "\n",
    "#Guardar en un archivo JSON\n",
    "json_file_path = \"accidentes.json\"\n",
    "with open(json_file_path, \"w\", encoding=\"utf-8\") as f:\n",
    "    f.write(json_data)\n",
    "\n",
    "print(f\"Datos convertidos y guardados en {json_file_path}\")"
   ]
  },
  {
   "cell_type": "code",
   "execution_count": 27,
   "metadata": {},
   "outputs": [
    {
     "name": "stdout",
     "output_type": "stream",
     "text": [
      " Datos convertidos y guardados en accidentes_convertidos.csv\n"
     ]
    }
   ],
   "source": [
    "#  Cargar los datos desde JSON\n",
    "with open(\"accidentes.json\", \"r\", encoding=\"utf-8\") as f:\n",
    "    json_data = json.load(f)\n",
    "\n",
    "#  Convertir JSON a DataFrame de pandas\n",
    "df_json = pd.DataFrame(json_data)\n",
    "\n",
    "#  Guardar el DataFrame como CSV\n",
    "csv_file_path = \"accidentes_convertidos.csv\"\n",
    "df_json.to_csv(csv_file_path, index=False, encoding=\"utf-8-sig\")\n",
    "\n",
    "print(f\" Datos convertidos y guardados en {csv_file_path}\")"
   ]
  },
  {
   "cell_type": "code",
   "execution_count": null,
   "metadata": {},
   "outputs": [],
   "source": [
    "#revision de sentimientos "
   ]
  },
  {
   "cell_type": "code",
   "execution_count": 28,
   "metadata": {},
   "outputs": [
    {
     "name": "stdout",
     "output_type": "stream",
     "text": [
      "Requirement already satisfied: nltk in c:\\users\\jordy.navarro\\appdata\\local\\programs\\python\\python313\\lib\\site-packages (3.9.1)\n",
      "Requirement already satisfied: textblob in c:\\users\\jordy.navarro\\appdata\\local\\programs\\python\\python313\\lib\\site-packages (0.18.0.post0)\n",
      "Requirement already satisfied: click in c:\\users\\jordy.navarro\\appdata\\local\\programs\\python\\python313\\lib\\site-packages (from nltk) (8.1.8)\n",
      "Requirement already satisfied: joblib in c:\\users\\jordy.navarro\\appdata\\local\\programs\\python\\python313\\lib\\site-packages (from nltk) (1.4.2)\n",
      "Requirement already satisfied: regex>=2021.8.3 in c:\\users\\jordy.navarro\\appdata\\local\\programs\\python\\python313\\lib\\site-packages (from nltk) (2024.11.6)\n",
      "Requirement already satisfied: tqdm in c:\\users\\jordy.navarro\\appdata\\local\\programs\\python\\python313\\lib\\site-packages (from nltk) (4.67.1)\n",
      "Requirement already satisfied: colorama in c:\\users\\jordy.navarro\\appdata\\local\\programs\\python\\python313\\lib\\site-packages (from click->nltk) (0.4.6)\n",
      "Note: you may need to restart the kernel to use updated packages.\n"
     ]
    },
    {
     "name": "stderr",
     "output_type": "stream",
     "text": [
      "\n",
      "[notice] A new release of pip is available: 24.2 -> 25.0\n",
      "[notice] To update, run: python.exe -m pip install --upgrade pip\n"
     ]
    }
   ],
   "source": [
    "pip install nltk textblob"
   ]
  },
  {
   "cell_type": "code",
   "execution_count": 30,
   "metadata": {},
   "outputs": [
    {
     "name": "stderr",
     "output_type": "stream",
     "text": [
      "[nltk_data] Downloading package vader_lexicon to\n",
      "[nltk_data]     C:\\Users\\jordy.navarro\\AppData\\Roaming\\nltk_data...\n"
     ]
    },
    {
     "data": {
      "text/plain": [
       "True"
      ]
     },
     "execution_count": 30,
     "metadata": {},
     "output_type": "execute_result"
    }
   ],
   "source": [
    "import nltk\n",
    "nltk.download(\"vader_lexicon\")\n"
   ]
  },
  {
   "cell_type": "code",
   "execution_count": 32,
   "metadata": {},
   "outputs": [
    {
     "name": "stdout",
     "output_type": "stream",
     "text": [
      "   id         causa_accidente sentimiento\n",
      "0   1  Condiciones Climáticas     Neutral\n",
      "1   2          Falla Mecánica     Neutral\n",
      "2   3     Exceso de Velocidad     Neutral\n",
      "3   4    Conducción Distraída     Neutral\n",
      "4   5    Conducción Distraída     Neutral\n",
      " Resultados guardados en 'analisis_sentimientos.csv'\n"
     ]
    }
   ],
   "source": [
    "import sqlite3\n",
    "import pandas as pd\n",
    "from nltk.sentiment import SentimentIntensityAnalyzer\n",
    "from textblob import TextBlob\n",
    "\n",
    "# Conectar a SQLite\n",
    "sqlite_db_path = \"accidentes.sqlite\"\n",
    "conn = sqlite3.connect(sqlite_db_path)\n",
    "\n",
    "# Extraer los datos que queremos analizar (causa y severidad)\n",
    "df_sqlite = pd.read_sql_query(\"SELECT id, causa_accidente, accident_severity FROM accidentes\", conn)\n",
    "conn.close()\n",
    "\n",
    "# Inicializar el analizador de sentimientos\n",
    "sia = SentimentIntensityAnalyzer()\n",
    "\n",
    "# Función para analizar el sentimiento de una frase\n",
    "def analizar_sentimiento(texto):\n",
    "    if pd.isna(texto) or texto.strip() == \"\":\n",
    "        return \"Neutral\"\n",
    "    \n",
    "    # Usar VADER para obtener el puntaje de sentimiento\n",
    "    score = sia.polarity_scores(texto)[\"compound\"]\n",
    "    \n",
    "    # Clasificar en positivo, negativo o neutral\n",
    "    if score > 0.05:\n",
    "        return \"Positivo\"\n",
    "    elif score < -0.05:\n",
    "        return \"Negativo\"\n",
    "    else:\n",
    "        return \"Neutral\"\n",
    "\n",
    "# Aplicar el análisis de sentimientos a las causas de los accidentes\n",
    "df_sqlite[\"sentimiento\"] = df_sqlite[\"causa_accidente\"].apply(analizar_sentimiento)\n",
    "\n",
    "# Mostrar algunos resultados\n",
    "print(df_sqlite[[\"id\", \"causa_accidente\", \"sentimiento\"]].head())\n",
    "\n",
    "# Guardar los resultados en un nuevo archivo CSV\n",
    "df_sqlite.to_csv(\"analisis_sentimientos.csv\", index=False, encoding=\"utf-8-sig\")\n",
    "print(\" Resultados guardados en 'analisis_sentimientos.csv'\")"
   ]
  },
  {
   "cell_type": "code",
   "execution_count": 33,
   "metadata": {},
   "outputs": [],
   "source": [
    "#interpretar los sentimientos "
   ]
  },
  {
   "cell_type": "code",
   "execution_count": 42,
   "metadata": {},
   "outputs": [
    {
     "name": "stdout",
     "output_type": "stream",
     "text": [
      "            id                   causa_accidente sentimiento\n",
      "26256    26257               Exceso de Velocidad     Neutral\n",
      "101606  101607  Conducción en Estado de Ebriedad     Neutral\n",
      "21108    21109               Exceso de Velocidad     Neutral\n",
      "129323  129324               Exceso de Velocidad     Neutral\n",
      "112577  112578              Conducción Distraída     Neutral\n",
      "...        ...                               ...         ...\n",
      "29257    29258              Conducción Distraída     Neutral\n",
      "46868    46869            Condiciones Climáticas     Neutral\n",
      "112819  112820                    Falla Mecánica     Neutral\n",
      "26513    26514            Condiciones Climáticas     Neutral\n",
      "95266    95267               Exceso de Velocidad     Neutral\n",
      "\n",
      "[1000 rows x 3 columns]\n"
     ]
    }
   ],
   "source": [
    "print(df_sqlite[[\"id\", \"causa_accidente\", \"sentimiento\"]].sample(1000))"
   ]
  },
  {
   "cell_type": "code",
   "execution_count": 35,
   "metadata": {},
   "outputs": [],
   "source": [
    "#para las graficas "
   ]
  },
  {
   "cell_type": "code",
   "execution_count": 37,
   "metadata": {},
   "outputs": [
    {
     "name": "stdout",
     "output_type": "stream",
     "text": [
      "Requirement already satisfied: pandas in c:\\users\\jordy.navarro\\appdata\\local\\programs\\python\\python313\\lib\\site-packages (2.2.3)\n",
      "Requirement already satisfied: matplotlib in c:\\users\\jordy.navarro\\appdata\\local\\programs\\python\\python313\\lib\\site-packages (3.9.3)\n",
      "Requirement already satisfied: seaborn in c:\\users\\jordy.navarro\\appdata\\local\\programs\\python\\python313\\lib\\site-packages (0.13.2)\n",
      "Collecting plotly\n",
      "  Downloading plotly-6.0.0-py3-none-any.whl.metadata (5.6 kB)\n",
      "Collecting dash\n",
      "  Downloading dash-2.18.2-py3-none-any.whl.metadata (10 kB)\n",
      "Requirement already satisfied: numpy>=1.26.0 in c:\\users\\jordy.navarro\\appdata\\local\\programs\\python\\python313\\lib\\site-packages (from pandas) (2.1.2)\n",
      "Requirement already satisfied: python-dateutil>=2.8.2 in c:\\users\\jordy.navarro\\appdata\\local\\programs\\python\\python313\\lib\\site-packages (from pandas) (2.9.0.post0)\n",
      "Requirement already satisfied: pytz>=2020.1 in c:\\users\\jordy.navarro\\appdata\\local\\programs\\python\\python313\\lib\\site-packages (from pandas) (2024.2)\n",
      "Requirement already satisfied: tzdata>=2022.7 in c:\\users\\jordy.navarro\\appdata\\local\\programs\\python\\python313\\lib\\site-packages (from pandas) (2024.2)\n",
      "Requirement already satisfied: contourpy>=1.0.1 in c:\\users\\jordy.navarro\\appdata\\local\\programs\\python\\python313\\lib\\site-packages (from matplotlib) (1.3.1)\n",
      "Requirement already satisfied: cycler>=0.10 in c:\\users\\jordy.navarro\\appdata\\local\\programs\\python\\python313\\lib\\site-packages (from matplotlib) (0.12.1)\n",
      "Requirement already satisfied: fonttools>=4.22.0 in c:\\users\\jordy.navarro\\appdata\\local\\programs\\python\\python313\\lib\\site-packages (from matplotlib) (4.55.0)\n",
      "Requirement already satisfied: kiwisolver>=1.3.1 in c:\\users\\jordy.navarro\\appdata\\local\\programs\\python\\python313\\lib\\site-packages (from matplotlib) (1.4.7)\n",
      "Requirement already satisfied: packaging>=20.0 in c:\\users\\jordy.navarro\\appdata\\local\\programs\\python\\python313\\lib\\site-packages (from matplotlib) (24.1)\n",
      "Requirement already satisfied: pillow>=8 in c:\\users\\jordy.navarro\\appdata\\local\\programs\\python\\python313\\lib\\site-packages (from matplotlib) (11.0.0)\n",
      "Requirement already satisfied: pyparsing>=2.3.1 in c:\\users\\jordy.navarro\\appdata\\local\\programs\\python\\python313\\lib\\site-packages (from matplotlib) (3.2.0)\n",
      "Collecting narwhals>=1.15.1 (from plotly)\n",
      "  Downloading narwhals-1.24.2-py3-none-any.whl.metadata (10 kB)\n",
      "Collecting Flask<3.1,>=1.0.4 (from dash)\n",
      "  Downloading flask-3.0.3-py3-none-any.whl.metadata (3.2 kB)\n",
      "Collecting Werkzeug<3.1 (from dash)\n",
      "  Downloading werkzeug-3.0.6-py3-none-any.whl.metadata (3.7 kB)\n",
      "Collecting dash-html-components==2.0.0 (from dash)\n",
      "  Downloading dash_html_components-2.0.0-py3-none-any.whl.metadata (3.8 kB)\n",
      "Collecting dash-core-components==2.0.0 (from dash)\n",
      "  Downloading dash_core_components-2.0.0-py3-none-any.whl.metadata (2.9 kB)\n",
      "Collecting dash-table==5.0.0 (from dash)\n",
      "  Downloading dash_table-5.0.0-py3-none-any.whl.metadata (2.4 kB)\n",
      "Collecting importlib-metadata (from dash)\n",
      "  Downloading importlib_metadata-8.6.1-py3-none-any.whl.metadata (4.7 kB)\n",
      "Collecting typing-extensions>=4.1.1 (from dash)\n",
      "  Downloading typing_extensions-4.12.2-py3-none-any.whl.metadata (3.0 kB)\n",
      "Requirement already satisfied: requests in c:\\users\\jordy.navarro\\appdata\\local\\programs\\python\\python313\\lib\\site-packages (from dash) (2.32.3)\n",
      "Collecting retrying (from dash)\n",
      "  Downloading retrying-1.3.4-py3-none-any.whl.metadata (6.9 kB)\n",
      "Requirement already satisfied: nest-asyncio in c:\\users\\jordy.navarro\\appdata\\local\\programs\\python\\python313\\lib\\site-packages (from dash) (1.6.0)\n",
      "Requirement already satisfied: setuptools in c:\\users\\jordy.navarro\\appdata\\local\\programs\\python\\python313\\lib\\site-packages (from dash) (75.2.0)\n",
      "Requirement already satisfied: Jinja2>=3.1.2 in c:\\users\\jordy.navarro\\appdata\\local\\programs\\python\\python313\\lib\\site-packages (from Flask<3.1,>=1.0.4->dash) (3.1.4)\n",
      "Collecting itsdangerous>=2.1.2 (from Flask<3.1,>=1.0.4->dash)\n",
      "  Downloading itsdangerous-2.2.0-py3-none-any.whl.metadata (1.9 kB)\n",
      "Requirement already satisfied: click>=8.1.3 in c:\\users\\jordy.navarro\\appdata\\local\\programs\\python\\python313\\lib\\site-packages (from Flask<3.1,>=1.0.4->dash) (8.1.8)\n",
      "Collecting blinker>=1.6.2 (from Flask<3.1,>=1.0.4->dash)\n",
      "  Downloading blinker-1.9.0-py3-none-any.whl.metadata (1.6 kB)\n",
      "Requirement already satisfied: six>=1.5 in c:\\users\\jordy.navarro\\appdata\\local\\programs\\python\\python313\\lib\\site-packages (from python-dateutil>=2.8.2->pandas) (1.16.0)\n",
      "Requirement already satisfied: MarkupSafe>=2.1.1 in c:\\users\\jordy.navarro\\appdata\\local\\programs\\python\\python313\\lib\\site-packages (from Werkzeug<3.1->dash) (3.0.2)\n",
      "Collecting zipp>=3.20 (from importlib-metadata->dash)\n",
      "  Downloading zipp-3.21.0-py3-none-any.whl.metadata (3.7 kB)\n",
      "Requirement already satisfied: charset-normalizer<4,>=2 in c:\\users\\jordy.navarro\\appdata\\local\\programs\\python\\python313\\lib\\site-packages (from requests->dash) (3.4.0)\n",
      "Requirement already satisfied: idna<4,>=2.5 in c:\\users\\jordy.navarro\\appdata\\local\\programs\\python\\python313\\lib\\site-packages (from requests->dash) (3.10)\n",
      "Requirement already satisfied: urllib3<3,>=1.21.1 in c:\\users\\jordy.navarro\\appdata\\local\\programs\\python\\python313\\lib\\site-packages (from requests->dash) (2.2.3)\n",
      "Requirement already satisfied: certifi>=2017.4.17 in c:\\users\\jordy.navarro\\appdata\\local\\programs\\python\\python313\\lib\\site-packages (from requests->dash) (2024.8.30)\n",
      "Requirement already satisfied: colorama in c:\\users\\jordy.navarro\\appdata\\local\\programs\\python\\python313\\lib\\site-packages (from click>=8.1.3->Flask<3.1,>=1.0.4->dash) (0.4.6)\n",
      "Downloading plotly-6.0.0-py3-none-any.whl (14.8 MB)\n",
      "   ---------------------------------------- 0.0/14.8 MB ? eta -:--:--\n",
      "    --------------------------------------- 0.3/14.8 MB ? eta -:--:--\n",
      "   --- ------------------------------------ 1.3/14.8 MB 4.6 MB/s eta 0:00:03\n",
      "   --------------------------- ------------ 10.2/14.8 MB 22.4 MB/s eta 0:00:01\n",
      "   ---------------------------------------  14.7/14.8 MB 23.2 MB/s eta 0:00:01\n",
      "   ---------------------------------------- 14.8/14.8 MB 20.4 MB/s eta 0:00:00\n",
      "Downloading dash-2.18.2-py3-none-any.whl (7.8 MB)\n",
      "   ---------------------------------------- 0.0/7.8 MB ? eta -:--:--\n",
      "   --------------------------------- ------ 6.6/7.8 MB 32.8 MB/s eta 0:00:01\n",
      "   ---------------------------------------- 7.8/7.8 MB 20.1 MB/s eta 0:00:00\n",
      "Downloading dash_core_components-2.0.0-py3-none-any.whl (3.8 kB)\n",
      "Downloading dash_html_components-2.0.0-py3-none-any.whl (4.1 kB)\n",
      "Downloading dash_table-5.0.0-py3-none-any.whl (3.9 kB)\n",
      "Downloading flask-3.0.3-py3-none-any.whl (101 kB)\n",
      "Downloading narwhals-1.24.2-py3-none-any.whl (312 kB)\n",
      "Downloading typing_extensions-4.12.2-py3-none-any.whl (37 kB)\n",
      "Downloading werkzeug-3.0.6-py3-none-any.whl (227 kB)\n",
      "Downloading importlib_metadata-8.6.1-py3-none-any.whl (26 kB)\n",
      "Downloading retrying-1.3.4-py3-none-any.whl (11 kB)\n",
      "Downloading blinker-1.9.0-py3-none-any.whl (8.5 kB)\n",
      "Downloading itsdangerous-2.2.0-py3-none-any.whl (16 kB)\n",
      "Downloading zipp-3.21.0-py3-none-any.whl (9.6 kB)\n",
      "Installing collected packages: dash-table, dash-html-components, dash-core-components, zipp, Werkzeug, typing-extensions, retrying, narwhals, itsdangerous, blinker, plotly, importlib-metadata, Flask, dash\n",
      "Successfully installed Flask-3.0.3 Werkzeug-3.0.6 blinker-1.9.0 dash-2.18.2 dash-core-components-2.0.0 dash-html-components-2.0.0 dash-table-5.0.0 importlib-metadata-8.6.1 itsdangerous-2.2.0 narwhals-1.24.2 plotly-6.0.0 retrying-1.3.4 typing-extensions-4.12.2 zipp-3.21.0\n",
      "Note: you may need to restart the kernel to use updated packages.\n"
     ]
    },
    {
     "name": "stderr",
     "output_type": "stream",
     "text": [
      "\n",
      "[notice] A new release of pip is available: 24.2 -> 25.0\n",
      "[notice] To update, run: python.exe -m pip install --upgrade pip\n"
     ]
    }
   ],
   "source": [
    "pip install pandas matplotlib seaborn plotly dash"
   ]
  },
  {
   "cell_type": "code",
   "execution_count": null,
   "metadata": {},
   "outputs": [
    {
     "name": "stdout",
     "output_type": "stream",
     "text": [
      "Requirement already satisfied: dash in c:\\users\\jordy.navarro\\appdata\\local\\programs\\python\\python313\\lib\\site-packages (2.18.2)\n",
      "Requirement already satisfied: pandas in c:\\users\\jordy.navarro\\appdata\\local\\programs\\python\\python313\\lib\\site-packages (2.2.3)\n",
      "Requirement already satisfied: plotly in c:\\users\\jordy.navarro\\appdata\\local\\programs\\python\\python313\\lib\\site-packages (6.0.0)\n",
      "Requirement already satisfied: Flask<3.1,>=1.0.4 in c:\\users\\jordy.navarro\\appdata\\local\\programs\\python\\python313\\lib\\site-packages (from dash) (3.0.3)\n",
      "Requirement already satisfied: Werkzeug<3.1 in c:\\users\\jordy.navarro\\appdata\\local\\programs\\python\\python313\\lib\\site-packages (from dash) (3.0.6)\n",
      "Requirement already satisfied: dash-html-components==2.0.0 in c:\\users\\jordy.navarro\\appdata\\local\\programs\\python\\python313\\lib\\site-packages (from dash) (2.0.0)\n",
      "Requirement already satisfied: dash-core-components==2.0.0 in c:\\users\\jordy.navarro\\appdata\\local\\programs\\python\\python313\\lib\\site-packages (from dash) (2.0.0)\n",
      "Requirement already satisfied: dash-table==5.0.0 in c:\\users\\jordy.navarro\\appdata\\local\\programs\\python\\python313\\lib\\site-packages (from dash) (5.0.0)\n",
      "Requirement already satisfied: importlib-metadata in c:\\users\\jordy.navarro\\appdata\\local\\programs\\python\\python313\\lib\\site-packages (from dash) (8.6.1)\n",
      "Requirement already satisfied: typing-extensions>=4.1.1 in c:\\users\\jordy.navarro\\appdata\\local\\programs\\python\\python313\\lib\\site-packages (from dash) (4.12.2)\n",
      "Requirement already satisfied: requests in c:\\users\\jordy.navarro\\appdata\\local\\programs\\python\\python313\\lib\\site-packages (from dash) (2.32.3)\n",
      "Requirement already satisfied: retrying in c:\\users\\jordy.navarro\\appdata\\local\\programs\\python\\python313\\lib\\site-packages (from dash) (1.3.4)\n",
      "Requirement already satisfied: nest-asyncio in c:\\users\\jordy.navarro\\appdata\\local\\programs\\python\\python313\\lib\\site-packages (from dash) (1.6.0)\n",
      "Requirement already satisfied: setuptools in c:\\users\\jordy.navarro\\appdata\\local\\programs\\python\\python313\\lib\\site-packages (from dash) (75.2.0)\n",
      "Requirement already satisfied: numpy>=1.26.0 in c:\\users\\jordy.navarro\\appdata\\local\\programs\\python\\python313\\lib\\site-packages (from pandas) (2.1.2)\n",
      "Requirement already satisfied: python-dateutil>=2.8.2 in c:\\users\\jordy.navarro\\appdata\\local\\programs\\python\\python313\\lib\\site-packages (from pandas) (2.9.0.post0)\n",
      "Requirement already satisfied: pytz>=2020.1 in c:\\users\\jordy.navarro\\appdata\\local\\programs\\python\\python313\\lib\\site-packages (from pandas) (2024.2)\n",
      "Requirement already satisfied: tzdata>=2022.7 in c:\\users\\jordy.navarro\\appdata\\local\\programs\\python\\python313\\lib\\site-packages (from pandas) (2024.2)\n",
      "Requirement already satisfied: narwhals>=1.15.1 in c:\\users\\jordy.navarro\\appdata\\local\\programs\\python\\python313\\lib\\site-packages (from plotly) (1.24.2)\n",
      "Requirement already satisfied: packaging in c:\\users\\jordy.navarro\\appdata\\local\\programs\\python\\python313\\lib\\site-packages (from plotly) (24.1)\n",
      "Requirement already satisfied: Jinja2>=3.1.2 in c:\\users\\jordy.navarro\\appdata\\local\\programs\\python\\python313\\lib\\site-packages (from Flask<3.1,>=1.0.4->dash) (3.1.4)\n",
      "Requirement already satisfied: itsdangerous>=2.1.2 in c:\\users\\jordy.navarro\\appdata\\local\\programs\\python\\python313\\lib\\site-packages (from Flask<3.1,>=1.0.4->dash) (2.2.0)\n",
      "Requirement already satisfied: click>=8.1.3 in c:\\users\\jordy.navarro\\appdata\\local\\programs\\python\\python313\\lib\\site-packages (from Flask<3.1,>=1.0.4->dash) (8.1.8)\n",
      "Requirement already satisfied: blinker>=1.6.2 in c:\\users\\jordy.navarro\\appdata\\local\\programs\\python\\python313\\lib\\site-packages (from Flask<3.1,>=1.0.4->dash) (1.9.0)\n",
      "Requirement already satisfied: six>=1.5 in c:\\users\\jordy.navarro\\appdata\\local\\programs\\python\\python313\\lib\\site-packages (from python-dateutil>=2.8.2->pandas) (1.16.0)\n",
      "Requirement already satisfied: MarkupSafe>=2.1.1 in c:\\users\\jordy.navarro\\appdata\\local\\programs\\python\\python313\\lib\\site-packages (from Werkzeug<3.1->dash) (3.0.2)\n",
      "Requirement already satisfied: zipp>=3.20 in c:\\users\\jordy.navarro\\appdata\\local\\programs\\python\\python313\\lib\\site-packages (from importlib-metadata->dash) (3.21.0)\n",
      "Requirement already satisfied: charset-normalizer<4,>=2 in c:\\users\\jordy.navarro\\appdata\\local\\programs\\python\\python313\\lib\\site-packages (from requests->dash) (3.4.0)\n",
      "Requirement already satisfied: idna<4,>=2.5 in c:\\users\\jordy.navarro\\appdata\\local\\programs\\python\\python313\\lib\\site-packages (from requests->dash) (3.10)\n",
      "Requirement already satisfied: urllib3<3,>=1.21.1 in c:\\users\\jordy.navarro\\appdata\\local\\programs\\python\\python313\\lib\\site-packages (from requests->dash) (2.2.3)\n",
      "Requirement already satisfied: certifi>=2017.4.17 in c:\\users\\jordy.navarro\\appdata\\local\\programs\\python\\python313\\lib\\site-packages (from requests->dash) (2024.8.30)\n",
      "Requirement already satisfied: colorama in c:\\users\\jordy.navarro\\appdata\\local\\programs\\python\\python313\\lib\\site-packages (from click>=8.1.3->Flask<3.1,>=1.0.4->dash) (0.4.6)\n",
      "Note: you may need to restart the kernel to use updated packages.\n"
     ]
    },
    {
     "name": "stderr",
     "output_type": "stream",
     "text": [
      "\n",
      "[notice] A new release of pip is available: 24.2 -> 25.0\n",
      "[notice] To update, run: python.exe -m pip install --upgrade pip\n"
     ]
    }
   ],
   "source": [
    "pip install dash pandas plotly"
   ]
  }
 ],
 "metadata": {
  "kernelspec": {
   "display_name": "Python 3 (ipykernel)",
   "language": "python",
   "name": "python3"
  },
  "language_info": {
   "codemirror_mode": {
    "name": "ipython",
    "version": 3
   },
   "file_extension": ".py",
   "mimetype": "text/x-python",
   "name": "python",
   "nbconvert_exporter": "python",
   "pygments_lexer": "ipython3",
   "version": "3.12.7"
  }
 },
 "nbformat": 4,
 "nbformat_minor": 4
}
