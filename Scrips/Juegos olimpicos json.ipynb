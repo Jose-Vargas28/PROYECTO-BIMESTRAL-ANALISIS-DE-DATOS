{
 "cells": [
  {
   "cell_type": "code",
   "execution_count": 1,
   "id": "599530a2-70ba-4bbd-abda-234040d64e11",
   "metadata": {},
   "outputs": [],
   "source": [
    "import json"
   ]
  },
  {
   "cell_type": "code",
   "execution_count": 2,
   "id": "b5a44017-fe33-4481-85a9-b5c37a15597e",
   "metadata": {},
   "outputs": [],
   "source": [
    "# Cargar el archivo JSON\n",
    "with open(\"JuegosOlimpicosDATASETS.json\", \"r\", encoding=\"utf-8\") as f:\n",
    "    data = json.load(f)  # Asegúrate de que el JSON es un array"
   ]
  },
  {
   "cell_type": "code",
   "execution_count": 3,
   "id": "66c6d833-b4a1-413f-ae77-472879be55b7",
   "metadata": {},
   "outputs": [],
   "source": [
    "# Seleccionar solo los primeros 250,000 registros\n",
    "data_filtrada = data[:250000]"
   ]
  },
  {
   "cell_type": "code",
   "execution_count": 4,
   "id": "663a9c72-d864-4b75-be5d-d21a1c893035",
   "metadata": {},
   "outputs": [],
   "source": [
    "\n",
    "# Guardar el nuevo JSON filtrado\n",
    "with open(\"JuegosOlimpicosDATASETS_Recortado.json\", \"w\", encoding=\"utf-8\") as f:\n",
    "    json.dump(data_filtrada, f, ensure_ascii=False, indent=4)\n"
   ]
  },
  {
   "cell_type": "code",
   "execution_count": 5,
   "id": "040337df-d040-4eaa-b00f-6252db621340",
   "metadata": {},
   "outputs": [
    {
     "name": "stdout",
     "output_type": "stream",
     "text": [
      "Archivo filtrado guardado como 'JuegosOlimpicosDATASETS_Recortado.json'\n"
     ]
    }
   ],
   "source": [
    "print(\"Archivo filtrado guardado como 'JuegosOlimpicosDATASETS_Recortado.json'\")"
   ]
  },
  {
   "cell_type": "code",
   "execution_count": 1,
   "id": "f8276944-749a-45dd-888b-8eb4960f7638",
   "metadata": {},
   "outputs": [],
   "source": [
    "import pymongo"
   ]
  },
  {
   "cell_type": "code",
   "execution_count": 2,
   "id": "e456fe4d-8a10-4ba1-bb3b-62768d55d425",
   "metadata": {},
   "outputs": [],
   "source": [
    "import sqlite3\n",
    "import pandas as pd"
   ]
  },
  {
   "cell_type": "code",
   "execution_count": 3,
   "id": "70509e1f-e416-4e6b-af90-5b51547fd54b",
   "metadata": {},
   "outputs": [],
   "source": [
    "# Conectar a MongoDB\n",
    "client = pymongo.MongoClient(\"mongodb://localhost:27017/\")\n",
    "db = client[\"mibase\"]\n",
    "collection = db[\"Juegos_Olimpicos\"]"
   ]
  },
  {
   "cell_type": "code",
   "execution_count": 7,
   "id": "5096f799-7df9-4832-b8af-e84b92556bc4",
   "metadata": {},
   "outputs": [],
   "source": [
    "# Extraer los datos desde MongoDB\n",
    "data = list(collection.find({}, {\"_id\": 0}))  # Para excluir id\n",
    "df = pd.DataFrame(data)  # Convertir a DataFrame\n"
   ]
  },
  {
   "cell_type": "code",
   "execution_count": 21,
   "id": "e22d2a83-84a3-4ac0-be7d-e8d8b5a250de",
   "metadata": {},
   "outputs": [],
   "source": [
    "#conectar a sqlite\n",
    "\n",
    "SQLITE_DB = \"EventoDeportivo.db\"\n",
    "sqlite_conn = sqlite3.connect(SQLITE_DB)\n",
    "cursor = sqlite_conn.cursor()"
   ]
  },
  {
   "cell_type": "code",
   "execution_count": 22,
   "id": "eb49ef6b-f952-4ead-bff5-3cb1af0edca7",
   "metadata": {},
   "outputs": [
    {
     "data": {
      "text/plain": [
       "<sqlite3.Cursor at 0x2919b28b4c0>"
      ]
     },
     "execution_count": 22,
     "metadata": {},
     "output_type": "execute_result"
    }
   ],
   "source": [
    "# Crear tabla en SQLite (ajustar según la estructura del JSON)\n",
    "columns = \", \".join([f\"{col} TEXT\" for col in df.columns])\n",
    "cursor.execute(f\"CREATE TABLE IF NOT EXISTS JuegosOlimpicos ({columns})\")"
   ]
  },
  {
   "cell_type": "code",
   "execution_count": 23,
   "id": "d361559f-186f-4772-a439-f9b6f14c1ae1",
   "metadata": {},
   "outputs": [
    {
     "data": {
      "text/plain": [
       "250000"
      ]
     },
     "execution_count": 23,
     "metadata": {},
     "output_type": "execute_result"
    }
   ],
   "source": [
    "# Insertar datos en SQLite\n",
    "df.to_sql(\"JuegosOlimpicos\", sqlite_conn, if_exists=\"replace\", index=False)"
   ]
  },
  {
   "cell_type": "code",
   "execution_count": 27,
   "id": "14199348-979c-4617-a26c-74071945941d",
   "metadata": {},
   "outputs": [],
   "source": [
    "#Convertir de json a csv\n",
    "df.to_csv(\"JuegosOlimpicos.csv\", index=False)"
   ]
  },
  {
   "cell_type": "code",
   "execution_count": 47,
   "id": "cf9f0387-686e-44ab-9bcc-de1581cdc2ba",
   "metadata": {},
   "outputs": [],
   "source": [
    "con = sqlite3.connect(\"EventoDeportivo.db\")"
   ]
  },
  {
   "cell_type": "code",
   "execution_count": 48,
   "id": "fcc4375a-2419-4d4c-a062-5a3f71726435",
   "metadata": {},
   "outputs": [],
   "source": [
    "df1 = pd.read_sql_query(\"SELECT * FROM JuegosOlimpicos\",con)"
   ]
  },
  {
   "cell_type": "code",
   "execution_count": 89,
   "id": "a2fbdee6-4d0b-44e6-8d59-a557dd5ad953",
   "metadata": {},
   "outputs": [
    {
     "name": "stdout",
     "output_type": "stream",
     "text": [
      "(248750, 16)\n"
     ]
    }
   ],
   "source": [
    "#limpieza de datos\n",
    "# Eliminar filas duplicadas\n",
    "df1 = df1.drop_duplicates()\n",
    "\n",
    "# Verificar si se eliminaron duplicados\n",
    "print(df1.shape)  # Verifica el número de filas y columnas después de eliminar"
   ]
  },
  {
   "cell_type": "code",
   "execution_count": 90,
   "id": "68492b98-b547-4c92-ac41-f640d4674924",
   "metadata": {},
   "outputs": [
    {
     "name": "stdout",
     "output_type": "stream",
     "text": [
      "   ID                      Name Sex Age Height Weight            Team  NOC  \\\n",
      "0   1                 A Dijiang   M  24    180     80           China  CHN   \n",
      "1   2                  A Lamusi   M  23    170     60           China  CHN   \n",
      "2   3       Gunnar Nielsen Aaby   M  24     NA     NA         Denmark  DEN   \n",
      "3   4      Edgar Lindenau Aabye   M  34     NA     NA  Denmark/Sweden  DEN   \n",
      "4   5  Christine Jacoba Aaftink   F  21    185     82     Netherlands  NED   \n",
      "\n",
      "         Games  Year  Season       City          Sport  \\\n",
      "0  1992 Summer  1992  Summer  Barcelona     Basketball   \n",
      "1  2012 Summer  2012  Summer     London           Judo   \n",
      "2  1920 Summer  1920  Summer  Antwerpen       Football   \n",
      "3  1900 Summer  1900  Summer      Paris     Tug-Of-War   \n",
      "4  1988 Winter  1988  Winter    Calgary  Speed Skating   \n",
      "\n",
      "                              Event Medal  sentimiento  \n",
      "0       Basketball Men's Basketball    na         -1.0  \n",
      "1      Judo Men's Extra-Lightweight    na         -1.0  \n",
      "2           Football Men's Football    na         -1.0  \n",
      "3       Tug-Of-War Men's Tug-Of-War  gold          1.0  \n",
      "4  Speed Skating Women's 500 metres    na         -1.0  \n",
      "Index(['ID', 'Name', 'Sex', 'Age', 'Height', 'Weight', 'Team', 'NOC', 'Games',\n",
      "       'Year', 'Season', 'City', 'Sport', 'Event', 'Medal', 'sentimiento'],\n",
      "      dtype='object')\n"
     ]
    }
   ],
   "source": [
    "# Mostrar las primeras filas para verificar la estructura\n",
    "print(df1.head())\n",
    "print(df1.columns)  # Verificar el nombre de las columnas"
   ]
  },
  {
   "cell_type": "code",
   "execution_count": 91,
   "id": "9ee7ae8b-dff7-427d-90f1-26b98ac768d8",
   "metadata": {},
   "outputs": [
    {
     "name": "stdout",
     "output_type": "stream",
     "text": [
      "     Medal  sentimiento\n",
      "0       na         -1.0\n",
      "1       na         -1.0\n",
      "2       na         -1.0\n",
      "3     gold          1.0\n",
      "4       na         -1.0\n",
      "5       na         -1.0\n",
      "6       na         -1.0\n",
      "7       na         -1.0\n",
      "8       na         -1.0\n",
      "9       na         -1.0\n",
      "10      na         -1.0\n",
      "11      na         -1.0\n",
      "12      na         -1.0\n",
      "13      na         -1.0\n",
      "14      na         -1.0\n",
      "15      na         -1.0\n",
      "16      na         -1.0\n",
      "17      na         -1.0\n",
      "18      na         -1.0\n",
      "19      na         -1.0\n",
      "20      na         -1.0\n",
      "21      na         -1.0\n",
      "22      na         -1.0\n",
      "23      na         -1.0\n",
      "24      na         -1.0\n",
      "25      na         -1.0\n",
      "26      na         -1.0\n",
      "27      na         -1.0\n",
      "28      na         -1.0\n",
      "29      na         -1.0\n",
      "30      na         -1.0\n",
      "31      na         -1.0\n",
      "32      na         -1.0\n",
      "33      na         -1.0\n",
      "34      na         -1.0\n",
      "35      na         -1.0\n",
      "36      na         -1.0\n",
      "37  bronze          0.0\n",
      "38  bronze          0.0\n",
      "39      na         -1.0\n",
      "40  bronze          0.0\n",
      "41  bronze          0.0\n",
      "42    gold          1.0\n",
      "43      na         -1.0\n",
      "44    gold          1.0\n",
      "45      na         -1.0\n",
      "46      na         -1.0\n",
      "47      na         -1.0\n",
      "48    gold          1.0\n",
      "49      na         -1.0\n"
     ]
    }
   ],
   "source": [
    "# Función para asignar sentimiento según la medalla\n",
    "def sentimiento_por_medalla(medalla):\n",
    "    if isinstance(medalla, str):\n",
    "        medalla = medalla.lower()  # Convertir a minúsculas para evitar problemas de formato\n",
    "        if \"gold\" in medalla:\n",
    "            return 1.0  # Oro\n",
    "        elif \"silver\" in medalla:\n",
    "            return 0.5  # Plata\n",
    "        elif \"bronze\" in medalla:\n",
    "            return 0.0  # Bronce\n",
    "        else:\n",
    "            return -1.0  # Sin medalla\n",
    "    return -1.0  # Negativo si no es un valor válido\n",
    "\n",
    "# Aplicar la función a la columna 'Medal' para crear la columna 'sentimiento'\n",
    "df1[\"sentimiento\"] = df1[\"Medal\"].apply(sentimiento_por_medalla)\n",
    "\n",
    "# Verificar los primeros registros después de aplicar la función\n",
    "print(df1[['Medal', 'sentimiento']].head(50))"
   ]
  },
  {
   "cell_type": "code",
   "execution_count": 92,
   "id": "6ad0dcbf-767d-4a0e-8d6f-2e0dc7e6ef56",
   "metadata": {},
   "outputs": [
    {
     "name": "stdout",
     "output_type": "stream",
     "text": [
      "Valores únicos en 'sentimiento':\n",
      "[-1.   1.   0.   0.5]\n"
     ]
    }
   ],
   "source": [
    "# Verificar los valores únicos en la columna 'sentimiento'\n",
    "print(\"Valores únicos en 'sentimiento':\")\n",
    "print(df1[\"sentimiento\"].unique())"
   ]
  },
  {
   "cell_type": "code",
   "execution_count": 93,
   "id": "a9306fad-cbc6-487c-bc24-d18d139b189b",
   "metadata": {},
   "outputs": [
    {
     "name": "stdout",
     "output_type": "stream",
     "text": [
      "Conteo de Sentimientos:\n",
      "sentimiento\n",
      "-1.0    212337\n",
      " 1.0     12207\n",
      " 0.0     12195\n",
      " 0.5     12011\n",
      "Name: count, dtype: int64\n"
     ]
    }
   ],
   "source": [
    "# Verificar el conteo de cada tipo de sentimiento\n",
    "sentimientos_count = df1[\"sentimiento\"].value_counts()\n",
    "print(\"Conteo de Sentimientos:\")\n",
    "print(sentimientos_count)"
   ]
  },
  {
   "cell_type": "code",
   "execution_count": 94,
   "id": "79d95385-8298-4f82-9d6e-67dcde6df88b",
   "metadata": {},
   "outputs": [
    {
     "data": {
      "image/png": "[encoded data removed]",
      "text/plain": [
       "<Figure size 800x600 with 1 Axes>"
      ]
     },
     "metadata": {},
     "output_type": "display_data"
    },
    {
     "data": {
      "image/png": "[encoded data removed]",
      "text/plain": [
       "<Figure size 800x600 with 1 Axes>"
      ]
     },
     "metadata": {},
     "output_type": "display_data"
    }
   ],
   "source": [
    "import matplotlib.pyplot as plt\n",
    "\n",
    "# Asegurarnos de que las categorías estén correctamente contadas\n",
    "sentimientos_labels = ['Negativo (sin medalla)', 'Bronce (Neutro)', 'Plata (Positivo)', 'Oro (Muy Positivo)']\n",
    "sentimientos_values = [\n",
    "    sentimientos_count.get(-1.0, 0),  # Negativo (sin medalla)\n",
    "    sentimientos_count.get(0.0, 0),   # Bronce\n",
    "    sentimientos_count.get(0.5, 0),   # Plata\n",
    "    sentimientos_count.get(1.0, 0)    # Oro\n",
    "]\n",
    "\n",
    "# 1. Crear gráfico de barras\n",
    "plt.figure(figsize=(8,6))\n",
    "plt.bar(sentimientos_labels, sentimientos_values, color=['red', 'orange', 'gray', 'gold'])\n",
    "\n",
    "# Añadir título y etiquetas\n",
    "plt.title('Distribución de Sentimientos según Medalla')\n",
    "plt.xlabel('Tipo de Sentimiento')\n",
    "plt.ylabel('Cantidad de Registros')\n",
    "\n",
    "# Mostrar gráfico de barras\n",
    "plt.show()\n",
    "\n",
    "# 2. Crear gráfico de pie\n",
    "plt.figure(figsize=(8,6))\n",
    "plt.pie(sentimientos_values, labels=sentimientos_labels, autopct='%1.1f%%', startangle=90, colors=['red', 'orange', 'gray', 'gold'])\n",
    "\n",
    "# Añadir título\n",
    "plt.title('Distribución de Sentimientos según Medalla')\n",
    "\n",
    "# Mostrar gráfico de pie\n",
    "plt.show()"
   ]
  },
  {
   "cell_type": "code",
   "execution_count": 95,
   "id": "4fd3aa7f-2d47-48a2-b342-8dabcdc24427",
   "metadata": {},
   "outputs": [],
   "source": [
    "# Guardar el dataset con la nueva columna de sentimientos\n",
    "df1.to_csv(\"JuegosOlimpicos_sentimientos.csv\", index=False)"
   ]
  }
 ],
 "metadata": {
  "kernelspec": {
   "display_name": "Python 3 (ipykernel)",
   "language": "python",
   "name": "python3"
  },
  "language_info": {
   "codemirror_mode": {
    "name": "ipython",
    "version": 3
   },
   "file_extension": ".py",
   "mimetype": "text/x-python",
   "name": "python",
   "nbconvert_exporter": "python",
   "pygments_lexer": "ipython3",
   "version": "3.12.7"
  }
 },
 "nbformat": 4,
 "nbformat_minor": 5
}
