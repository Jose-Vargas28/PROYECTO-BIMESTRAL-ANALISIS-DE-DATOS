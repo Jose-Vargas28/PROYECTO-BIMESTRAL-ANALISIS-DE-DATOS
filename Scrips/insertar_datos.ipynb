{
 "cells": [
  {
   "cell_type": "code",
   "execution_count": 1,
   "metadata": {},
   "outputs": [
    {
     "name": "stdout",
     "output_type": "stream",
     "text": [
      "Requirement already satisfied: pyodbc in c:\\users\\jordy.navarro\\appdata\\local\\programs\\python\\python313\\lib\\site-packages (5.2.0)\n",
      "Note: you may need to restart the kernel to use updated packages.\n"
     ]
    },
    {
     "name": "stderr",
     "output_type": "stream",
     "text": [
      "\n",
      "[notice] A new release of pip is available: 24.2 -> 25.0\n",
      "[notice] To update, run: python.exe -m pip install --upgrade pip\n"
     ]
    }
   ],
   "source": [
    "pip install pyodbc\n"
   ]
  },
  {
   "cell_type": "code",
   "execution_count": 2,
   "metadata": {},
   "outputs": [
    {
     "name": "stdout",
     "output_type": "stream",
     "text": [
      "Requirement already satisfied: pandas in c:\\users\\jordy.navarro\\appdata\\local\\programs\\python\\python313\\lib\\site-packages (2.2.3)\n",
      "Requirement already satisfied: numpy>=1.26.0 in c:\\users\\jordy.navarro\\appdata\\local\\programs\\python\\python313\\lib\\site-packages (from pandas) (2.1.2)\n",
      "Requirement already satisfied: python-dateutil>=2.8.2 in c:\\users\\jordy.navarro\\appdata\\local\\programs\\python\\python313\\lib\\site-packages (from pandas) (2.9.0.post0)\n",
      "Requirement already satisfied: pytz>=2020.1 in c:\\users\\jordy.navarro\\appdata\\local\\programs\\python\\python313\\lib\\site-packages (from pandas) (2024.2)\n",
      "Requirement already satisfied: tzdata>=2022.7 in c:\\users\\jordy.navarro\\appdata\\local\\programs\\python\\python313\\lib\\site-packages (from pandas) (2024.2)\n",
      "Requirement already satisfied: six>=1.5 in c:\\users\\jordy.navarro\\appdata\\local\\programs\\python\\python313\\lib\\site-packages (from python-dateutil>=2.8.2->pandas) (1.16.0)\n",
      "Note: you may need to restart the kernel to use updated packages.\n"
     ]
    },
    {
     "name": "stderr",
     "output_type": "stream",
     "text": [
      "\n",
      "[notice] A new release of pip is available: 24.2 -> 25.0\n",
      "[notice] To update, run: python.exe -m pip install --upgrade pip\n"
     ]
    }
   ],
   "source": [
    "pip install pandas"
   ]
  },
  {
   "cell_type": "code",
   "execution_count": 11,
   "metadata": {},
   "outputs": [],
   "source": [
    "import sqlite3\n"
   ]
  },
  {
   "cell_type": "code",
   "execution_count": 15,
   "metadata": {},
   "outputs": [],
   "source": [
    "SERVER=\"127.0.0.1\\\\SQLEXPRESS\""
   ]
  },
  {
   "cell_type": "code",
   "execution_count": 20,
   "metadata": {},
   "outputs": [
    {
     "name": "stdout",
     "output_type": "stream",
     "text": [
      "✅ Conectado a SQL Server correctamente.\n"
     ]
    }
   ],
   "source": [
    "import pyodbc\n",
    "\n",
    "#  Configuración de la conexión a SQL Server\n",
    "conn = pyodbc.connect(\"DRIVER={SQL Server};\"\n",
    "                      \"SERVER=127.0.0.1\\\\SQLEXPRESS;\"  # Ajusta según tu configuración\n",
    "                      \"DATABASE=AccidentesDB;\"\n",
    "                      \"Trusted_Connection=yes;\")\n",
    "\n",
    "cursor = conn.cursor()\n",
    "print(\"✅ Conectado a SQL Server correctamente.\")"
   ]
  },
  {
   "cell_type": "code",
   "execution_count": 21,
   "metadata": {},
   "outputs": [
    {
     "name": "stdout",
     "output_type": "stream",
     "text": [
      "Index(['País', 'Año', 'Mes', 'Día de la Semana', 'Hora del Día', 'Zona',\n",
      "       'Tipo de Carretera', 'Condiciones Climáticas', 'Nivel de Visibilidad',\n",
      "       'Número de Vehículos Involucrados', 'Speed Limit', 'Driver Age Group',\n",
      "       'Driver Gender', 'Driver Alcohol Level', 'Driver Fatigue',\n",
      "       'Vehicle Condition', 'Pedestrians Involved', 'Cyclists Involved',\n",
      "       'Accident Severity', 'Number of Injuries', 'Número de Fallecidos',\n",
      "       'Tiempo de Respuesta de Emergencia', 'Volumen de Tráfico',\n",
      "       'Condición de la Carretera', 'Causa del Accidente',\n",
      "       'Reclamaciones de Seguro', 'Costo Médico', 'Pérdida Económica',\n",
      "       'Región', 'Densidad de Población'],\n",
      "      dtype='object')\n"
     ]
    }
   ],
   "source": [
    "import pandas as pd\n",
    "\n",
    "#  Ruta del archivo CSV\n",
    "file_path = \"accidentes_de_tráfico_completo.csv\"  # Asegura la ruta correcta\n",
    "\n",
    "#  Cargar los datos\n",
    "df = pd.read_csv(file_path)\n",
    "\n",
    "#  Mostrar los nombres de las columnas para asegurarnos de que coinciden con SQL Server\n",
    "print(df.columns)"
   ]
  },
  {
   "cell_type": "code",
   "execution_count": 22,
   "metadata": {},
   "outputs": [
    {
     "name": "stdout",
     "output_type": "stream",
     "text": [
      "Index(['Pais', 'Año', 'Mes', 'Dia_Semana', 'Hora_Dia', 'Zona',\n",
      "       'Tipo_Carretera', 'Condiciones_Climaticas', 'Nivel_Visibilidad',\n",
      "       'Vehiculos_Involucrados', 'Speed Limit', 'Driver Age Group',\n",
      "       'Driver Gender', 'Driver Alcohol Level', 'Driver Fatigue',\n",
      "       'Vehicle Condition', 'Pedestrians Involved', 'Cyclists Involved',\n",
      "       'Accident Severity', 'Number of Injuries', 'Número de Fallecidos',\n",
      "       'Tiempo de Respuesta de Emergencia', 'Volumen de Tráfico',\n",
      "       'Condición de la Carretera', 'Causa_Accidente',\n",
      "       'Reclamaciones de Seguro', 'Costo Médico', 'Pérdida Económica',\n",
      "       'Región', 'Densidad de Población'],\n",
      "      dtype='object')\n"
     ]
    }
   ],
   "source": [
    "column_mapping = {\n",
    "    \"País\": \"Pais\",\n",
    "    \"Año\": \"Año\",\n",
    "    \"Mes\": \"Mes\",\n",
    "    \"Día de la Semana\": \"Dia_Semana\",\n",
    "    \"Hora del Día\": \"Hora_Dia\",\n",
    "    \"Zona\": \"Zona\",\n",
    "    \"Tipo de Carretera\": \"Tipo_Carretera\",\n",
    "    \"Condiciones Climáticas\": \"Condiciones_Climaticas\",\n",
    "    \"Nivel de Visibilidad\": \"Nivel_Visibilidad\",\n",
    "    \"Número de Vehículos Involucrados\": \"Vehiculos_Involucrados\",\n",
    "    \"Causa del Accidente\": \"Causa_Accidente\",\n",
    "    \"Sentimiento\": \"Sentimiento\"\n",
    "}\n",
    "\n",
    "df.rename(columns=column_mapping, inplace=True)\n",
    "print(df.columns)  # Verifica que los nombres coincidan"
   ]
  },
  {
   "cell_type": "code",
   "execution_count": 23,
   "metadata": {},
   "outputs": [
    {
     "name": "stdout",
     "output_type": "stream",
     "text": [
      "Index(['Pais', 'Año', 'Mes', 'Dia_Semana', 'Hora_Dia', 'Zona',\n",
      "       'Tipo_Carretera', 'Condiciones_Climaticas', 'Nivel_Visibilidad',\n",
      "       'Vehiculos_Involucrados', 'Speed Limit', 'Driver Age Group',\n",
      "       'Driver Gender', 'Driver Alcohol Level', 'Driver Fatigue',\n",
      "       'Vehicle Condition', 'Pedestrians Involved', 'Cyclists Involved',\n",
      "       'Accident Severity', 'Number of Injuries', 'Número de Fallecidos',\n",
      "       'Tiempo de Respuesta de Emergencia', 'Volumen de Tráfico',\n",
      "       'Condición de la Carretera', 'Causa_Accidente',\n",
      "       'Reclamaciones de Seguro', 'Costo Médico', 'Pérdida Económica',\n",
      "       'Región', 'Densidad de Población'],\n",
      "      dtype='object')\n"
     ]
    }
   ],
   "source": [
    "print(df.columns)"
   ]
  },
  {
   "cell_type": "code",
   "execution_count": 25,
   "metadata": {},
   "outputs": [
    {
     "name": "stdout",
     "output_type": "stream",
     "text": [
      "Index(['Pais', 'Año', 'Mes', 'Dia_Semana', 'Hora_Dia', 'Zona',\n",
      "       'Tipo_Carretera', 'Condiciones_Climaticas', 'Nivel_Visibilidad',\n",
      "       'Vehiculos_Involucrados', 'Speed Limit', 'Driver Age Group',\n",
      "       'Driver Gender', 'Driver Alcohol Level', 'Driver Fatigue',\n",
      "       'Vehicle Condition', 'Pedestrians Involved', 'Cyclists Involved',\n",
      "       'Accident Severity', 'Number of Injuries', 'Número de Fallecidos',\n",
      "       'Tiempo de Respuesta de Emergencia', 'Volumen de Tráfico',\n",
      "       'Condición de la Carretera', 'Causa_Accidente',\n",
      "       'Reclamaciones de Seguro', 'Costo Médico', 'Pérdida Económica',\n",
      "       'Región', 'Densidad de Población'],\n",
      "      dtype='object')\n"
     ]
    }
   ],
   "source": [
    "df.rename(columns={\"sentimiento\": \"Sentimiento\", \"Sentiment\": \"Sentimiento\", \" Sentimiento\": \"Sentimiento\"}, inplace=True)\n",
    "\n",
    "print(df.columns)  # Verifica que \"Sentimiento\" ahora aparece correctamente"
   ]
  },
  {
   "cell_type": "code",
   "execution_count": 27,
   "metadata": {},
   "outputs": [
    {
     "name": "stdout",
     "output_type": "stream",
     "text": [
      "Index(['Pais', 'Año', 'Mes', 'Dia_Semana', 'Hora_Dia', 'Zona',\n",
      "       'Tipo_Carretera', 'Condiciones_Climaticas', 'Nivel_Visibilidad',\n",
      "       'Vehiculos_Involucrados', 'Speed Limit', 'Driver Age Group',\n",
      "       'Driver Gender', 'Driver Alcohol Level', 'Driver Fatigue',\n",
      "       'Vehicle Condition', 'Pedestrians Involved', 'Cyclists Involved',\n",
      "       'Accident Severity', 'Number of Injuries', 'Número de Fallecidos',\n",
      "       'Tiempo de Respuesta de Emergencia', 'Volumen de Tráfico',\n",
      "       'Condición de la Carretera', 'Causa_Accidente',\n",
      "       'Reclamaciones de Seguro', 'Costo Médico', 'Pérdida Económica',\n",
      "       'Región', 'Densidad de Población', 'Sentimiento'],\n",
      "      dtype='object')\n"
     ]
    }
   ],
   "source": [
    "df[\"Sentimiento\"] = 0  # Puedes asignar 0 o cualquier otro valor predeterminado\n",
    "print(df.columns)  # Verifica que ahora sí existe"
   ]
  },
  {
   "cell_type": "code",
   "execution_count": 28,
   "metadata": {},
   "outputs": [
    {
     "name": "stdout",
     "output_type": "stream",
     "text": [
      "✅ Datos insertados correctamente en SQL Server.\n"
     ]
    }
   ],
   "source": [
    "import pyodbc\n",
    "\n",
    "# 📌 Conectar a SQL Server\n",
    "conn = pyodbc.connect(\"DRIVER={SQL Server};\"\n",
    "                      \"SERVER=127.0.0.1\\\\SQLEXPRESS;\"\n",
    "                      \"DATABASE=AccidentesDB;\"\n",
    "                      \"Trusted_Connection=yes;\")\n",
    "cursor = conn.cursor()\n",
    "\n",
    "# 📌 Insertar los datos en SQL Server\n",
    "for index, row in df.iterrows():\n",
    "    cursor.execute(\"\"\"\n",
    "        INSERT INTO Accidentes (Pais, Año, Mes, Dia_Semana, Hora_Dia, Zona, \n",
    "        Tipo_Carretera, Condiciones_Climaticas, Nivel_Visibilidad, Vehiculos_Involucrados, \n",
    "        Causa_Accidente, Sentimiento)\n",
    "        VALUES (?, ?, ?, ?, ?, ?, ?, ?, ?, ?, ?, ?)\n",
    "    \"\"\", row[\"Pais\"], row[\"Año\"], row[\"Mes\"], row[\"Dia_Semana\"], \n",
    "       row[\"Hora_Dia\"], row[\"Zona\"], row[\"Tipo_Carretera\"], \n",
    "       row[\"Condiciones_Climaticas\"], row[\"Nivel_Visibilidad\"], \n",
    "       row[\"Vehiculos_Involucrados\"], row[\"Causa_Accidente\"], row[\"Sentimiento\"])\n",
    "\n",
    "conn.commit()\n",
    "cursor.close()\n",
    "conn.close()\n",
    "\n",
    "print(\"✅ Datos insertados correctamente en SQL Server.\")"
   ]
  }
 ],
 "metadata": {
  "kernelspec": {
   "display_name": "Python 3 (ipykernel)",
   "language": "python",
   "name": "python3"
  },
  "language_info": {
   "codemirror_mode": {
    "name": "ipython",
    "version": 3
   },
   "file_extension": ".py",
   "mimetype": "text/x-python",
   "name": "python",
   "nbconvert_exporter": "python",
   "pygments_lexer": "ipython3",
   "version": "3.12.7"
  }
 },
 "nbformat": 4,
 "nbformat_minor": 4
}
