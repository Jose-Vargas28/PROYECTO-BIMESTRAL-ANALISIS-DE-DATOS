{
 "cells": [
  {
   "cell_type": "code",
   "execution_count": 12,
   "id": "8b2335a8-e93b-403e-aa84-d20d446e4329",
   "metadata": {},
   "outputs": [
    {
     "name": "stdout",
     "output_type": "stream",
     "text": [
      "Collecting vaderSentiment\n",
      "  Downloading vaderSentiment-3.3.2-py2.py3-none-any.whl.metadata (572 bytes)\n",
      "Requirement already satisfied: requests in c:\\users\\user\\appdata\\local\\programs\\python\\python312\\lib\\site-packages (from vaderSentiment) (2.32.3)\n",
      "Requirement already satisfied: charset-normalizer<4,>=2 in c:\\users\\user\\appdata\\local\\programs\\python\\python312\\lib\\site-packages (from requests->vaderSentiment) (3.3.2)\n",
      "Requirement already satisfied: idna<4,>=2.5 in c:\\users\\user\\appdata\\local\\programs\\python\\python312\\lib\\site-packages (from requests->vaderSentiment) (3.10)\n",
      "Requirement already satisfied: urllib3<3,>=1.21.1 in c:\\users\\user\\appdata\\local\\programs\\python\\python312\\lib\\site-packages (from requests->vaderSentiment) (2.2.3)\n",
      "Requirement already satisfied: certifi>=2017.4.17 in c:\\users\\user\\appdata\\local\\programs\\python\\python312\\lib\\site-packages (from requests->vaderSentiment) (2024.8.30)\n",
      "Downloading vaderSentiment-3.3.2-py2.py3-none-any.whl (125 kB)\n",
      "Installing collected packages: vaderSentiment\n",
      "Successfully installed vaderSentiment-3.3.2\n",
      "Note: you may need to restart the kernel to use updated packages.\n"
     ]
    },
    {
     "name": "stderr",
     "output_type": "stream",
     "text": [
      "\n",
      "[notice] A new release of pip is available: 24.2 -> 25.0\n",
      "[notice] To update, run: python.exe -m pip install --upgrade pip\n"
     ]
    }
   ],
   "source": [
    "pip install vaderSentiment\n"
   ]
  },
  {
   "cell_type": "code",
   "execution_count": 1,
   "id": "9ec83b35-e3f7-4424-b2d4-5e1e105bc181",
   "metadata": {},
   "outputs": [
    {
     "name": "stdout",
     "output_type": "stream",
     "text": [
      "  Olympiad_Participation Scholarship School      Fav_sub Projects  Grasp_pow  \\\n",
      "0                    Yes         Yes    Yes  Mathematics      Yes          5   \n",
      "1                    Yes         Yes    Yes  Mathematics      Yes          3   \n",
      "2                    Yes         Yes    Yes      Science      Yes          5   \n",
      "3                    Yes         Yes    Yes  Mathematics      Yes          5   \n",
      "4                    Yes         Yes    Yes      Science      Yes          5   \n",
      "\n",
      "   Time_sprt Medals Career_sprt Act_sprt Fant_arts Won_arts  Time_art  \\\n",
      "0          1    Yes          No       No        No    Maybe         3   \n",
      "1          2     No          No       No        No       No         1   \n",
      "2          1    Yes          No       No        No       No         1   \n",
      "3          1    Yes          No       No        No    Maybe         3   \n",
      "4          3     No          No       No        No       No         2   \n",
      "\n",
      "  Predicted Hobby  Olympiad_Participation_sentimiento  \\\n",
      "0       Academics                              0.4019   \n",
      "1       Academics                              0.4019   \n",
      "2       Academics                              0.4019   \n",
      "3       Academics                              0.4019   \n",
      "4       Academics                              0.4019   \n",
      "\n",
      "   Scholarship_sentimiento  School_sentimiento  \n",
      "0                   0.4019              0.4019  \n",
      "1                   0.4019              0.4019  \n",
      "2                   0.4019              0.4019  \n",
      "3                   0.4019              0.4019  \n",
      "4                   0.4019              0.4019  \n"
     ]
    }
   ],
   "source": [
    "from vaderSentiment.vaderSentiment import SentimentIntensityAnalyzer\n",
    "import pandas as pd\n",
    "\n",
    "# Cargar el archivo CSV\n",
    "df = pd.read_csv('Hobby_Data.csv')\n",
    "\n",
    "# Crear el analizador de sentimiento\n",
    "analyzer = SentimentIntensityAnalyzer()\n",
    "\n",
    "# Lista de columnas de texto\n",
    "columnas_texto = ['Olympiad_Participation', 'Scholarship', 'School']\n",
    "\n",
    "# Aplicar análisis de sentimiento a cada columna\n",
    "for columna in columnas_texto:\n",
    "    df[f'{columna}_sentimiento'] = df[columna].apply(lambda x: analyzer.polarity_scores(str(x))['compound'])\n",
    "\n",
    "# Guardar el archivo con las nuevas columnas de sentimiento\n",
    "df.to_csv('analisis_sentimiento_hobbies.csv', index=False)\n",
    "\n",
    "# Ver los primeros registros\n",
    "print(df.head())\n"
   ]
  },
  {
   "cell_type": "code",
   "execution_count": 5,
   "id": "556df2e5-d06e-4f09-a486-82e0fb2e9332",
   "metadata": {},
   "outputs": [
    {
     "name": "stdout",
     "output_type": "stream",
     "text": [
      "   Age  Gender  Grade Level             Major Socioeconomic Status  \\\n",
      "0   24    Male            4  Computer Science                  Low   \n",
      "1   21    Male            2  Computer Science                  Low   \n",
      "2   22  Female            3  Computer Science                 High   \n",
      "3   24    Male            4  Computer Science                 High   \n",
      "4   20  Female            2  Computer Science               Medium   \n",
      "\n",
      "  Language Proficiency Learning Style Course Format Interaction Type  \\\n",
      "0         Intermediate         Visual     In-person      Discussions   \n",
      "1                Basic         Visual        Online         Lectures   \n",
      "2         Intermediate    Kinesthetic        Online         Lectures   \n",
      "3         Intermediate         Visual     In-person       Group Work   \n",
      "4         Intermediate    Kinesthetic        Hybrid      Discussions   \n",
      "\n",
      "  Engagement Level  ...  Technological Access  Grades  Test Scores  \\\n",
      "0              Low  ...                  Good      76           88   \n",
      "1         Moderate  ...                  Good      99           76   \n",
      "2             High  ...                  Good      72           93   \n",
      "3         Moderate  ...               Average      73           98   \n",
      "4         Moderate  ...                  Good      50           63   \n",
      "\n",
      "   Course Completion Rates Learning Style Preference Course Format Preference  \\\n",
      "0                       87                    Visual                In-person   \n",
      "1                       67                  Auditory                In-person   \n",
      "2                       84                  Auditory                In-person   \n",
      "3                       69                  Auditory                In-person   \n",
      "4                       73               Kinesthetic                   Online   \n",
      "\n",
      "   Preference Uncertainty  Interaction Type_sentimiento  \\\n",
      "0          Highly Certain                           0.0   \n",
      "1          Highly Certain                           0.0   \n",
      "2          Highly Certain                           0.0   \n",
      "3      Moderately Certain                           0.0   \n",
      "4          Highly Certain                           0.0   \n",
      "\n",
      "   Socioeconomic Status_sentimiento Engagement Level_sentimiento  \n",
      "0                           -0.2732                      -0.2732  \n",
      "1                           -0.2732                       0.0000  \n",
      "2                            0.0000                       0.0000  \n",
      "3                            0.0000                       0.0000  \n",
      "4                            0.0000                       0.0000  \n",
      "\n",
      "[5 rows x 25 columns]\n"
     ]
    }
   ],
   "source": [
    "from vaderSentiment.vaderSentiment import SentimentIntensityAnalyzer\n",
    "import pandas as pd\n",
    "\n",
    "# Cargar el archivo CSV\n",
    "df = pd.read_csv('student_preferences_dataset.csv')\n",
    "\n",
    "# Crear el analizador de sentimiento\n",
    "analyzer = SentimentIntensityAnalyzer()\n",
    "\n",
    "# Lista de columnas de texto\n",
    "columnas_texto = ['Interaction Type', 'Socioeconomic Status', 'Engagement Level']\n",
    "\n",
    "# Aplicar análisis de sentimiento a cada columna\n",
    "for columna in columnas_texto:\n",
    "    df[f'{columna}_sentimiento'] = df[columna].apply(lambda x: analyzer.polarity_scores(str(x))['compound'])\n",
    "\n",
    "# Guardar el archivo con las nuevas columnas de sentimiento\n",
    "df.to_csv('analisis_sentimiento2.csv', index=False)\n",
    "\n",
    "# Ver los primeros registros\n",
    "print(df.head())\n"
   ]
  },
  {
   "cell_type": "code",
   "execution_count": null,
   "id": "746d6d8d-d727-4440-955f-335ffcd4b2b1",
   "metadata": {},
   "outputs": [],
   "source": []
  }
 ],
 "metadata": {
  "kernelspec": {
   "display_name": "Python 3 (ipykernel)",
   "language": "python",
   "name": "python3"
  },
  "language_info": {
   "codemirror_mode": {
    "name": "ipython",
    "version": 3
   },
   "file_extension": ".py",
   "mimetype": "text/x-python",
   "name": "python",
   "nbconvert_exporter": "python",
   "pygments_lexer": "ipython3",
   "version": "3.12.7"
  }
 },
 "nbformat": 4,
 "nbformat_minor": 5
}
